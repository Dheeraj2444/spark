{
 "cells": [
  {
   "cell_type": "markdown",
   "metadata": {},
   "source": [
    "# Logistic Regression Consulting Project"
   ]
  },
  {
   "cell_type": "markdown",
   "metadata": {
    "collapsed": true
   },
   "source": [
    "## Binary Customer Churn\n",
    "\n",
    "A marketing agency has many customers that use their service to produce ads for the client/customer websites. They've noticed that they have quite a bit of churn in clients. They basically randomly assign account managers right now, but want you to create a machine learning model that will help predict which customers will churn (stop buying their service) so that they can correctly assign the customers most at risk to churn an account manager. Luckily they have some historical data, can you help them out? Create a classification algorithm that will help classify whether or not a customer churned. Then the company can test this against incoming data for future customers to predict which customers will churn and assign them an account manager.\n",
    "\n",
    "The data is saved as customer_churn.csv. Here are the fields and their definitions:\n",
    "\n",
    "    Name : Name of the latest contact at Company\n",
    "    Age: Customer Age\n",
    "    Total_Purchase: Total Ads Purchased\n",
    "    Account_Manager: Binary 0=No manager, 1= Account manager assigned\n",
    "    Years: Totaly Years as a customer\n",
    "    Num_sites: Number of websites that use the service.\n",
    "    Onboard_date: Date that the name of the latest contact was onboarded\n",
    "    Location: Client HQ Address\n",
    "    Company: Name of Client Company\n",
    "    \n",
    "Once you've created the model and evaluated it, test out the model on some new data (you can think of this almost like a hold-out set) that your client has provided, saved under new_customers.csv. The client wants to know which customers are most likely to churn given this data (they don't have the label yet)."
   ]
  },
  {
   "cell_type": "code",
   "execution_count": 1,
   "metadata": {
    "ExecuteTime": {
     "end_time": "2018-08-28T14:28:00.271496Z",
     "start_time": "2018-08-28T14:28:00.267545Z"
    },
    "collapsed": true
   },
   "outputs": [],
   "source": [
    "from pyspark.sql import SparkSession"
   ]
  },
  {
   "cell_type": "code",
   "execution_count": 3,
   "metadata": {
    "ExecuteTime": {
     "end_time": "2018-08-28T14:28:37.117692Z",
     "start_time": "2018-08-28T14:28:37.104761Z"
    },
    "collapsed": true
   },
   "outputs": [],
   "source": [
    "spark = SparkSession.builder.appName('churn').getOrCreate()"
   ]
  },
  {
   "cell_type": "code",
   "execution_count": 4,
   "metadata": {
    "ExecuteTime": {
     "end_time": "2018-08-28T14:29:46.647356Z",
     "start_time": "2018-08-28T14:29:37.358925Z"
    },
    "collapsed": true
   },
   "outputs": [],
   "source": [
    "df = spark.read.csv('customer_churn.csv', header=True, inferSchema=True)"
   ]
  },
  {
   "cell_type": "code",
   "execution_count": 6,
   "metadata": {
    "ExecuteTime": {
     "end_time": "2018-08-28T14:29:53.509229Z",
     "start_time": "2018-08-28T14:29:53.502186Z"
    }
   },
   "outputs": [
    {
     "name": "stdout",
     "output_type": "stream",
     "text": [
      "root\n",
      " |-- Names: string (nullable = true)\n",
      " |-- Age: double (nullable = true)\n",
      " |-- Total_Purchase: double (nullable = true)\n",
      " |-- Account_Manager: integer (nullable = true)\n",
      " |-- Years: double (nullable = true)\n",
      " |-- Num_Sites: double (nullable = true)\n",
      " |-- Onboard_date: timestamp (nullable = true)\n",
      " |-- Location: string (nullable = true)\n",
      " |-- Company: string (nullable = true)\n",
      " |-- Churn: integer (nullable = true)\n",
      "\n"
     ]
    }
   ],
   "source": [
    "df.printSchema()"
   ]
  },
  {
   "cell_type": "code",
   "execution_count": 8,
   "metadata": {
    "ExecuteTime": {
     "end_time": "2018-08-28T14:32:32.862507Z",
     "start_time": "2018-08-28T14:32:31.655674Z"
    }
   },
   "outputs": [
    {
     "name": "stdout",
     "output_type": "stream",
     "text": [
      "+-------+-------------+-----------------+-----------------+------------------+-----------------+------------------+--------------------+--------------------+-------------------+\n",
      "|summary|        Names|              Age|   Total_Purchase|   Account_Manager|            Years|         Num_Sites|            Location|             Company|              Churn|\n",
      "+-------+-------------+-----------------+-----------------+------------------+-----------------+------------------+--------------------+--------------------+-------------------+\n",
      "|  count|          900|              900|              900|               900|              900|               900|                 900|                 900|                900|\n",
      "|   mean|         null|41.81666666666667|10062.82403333334|0.4811111111111111| 5.27315555555555| 8.587777777777777|                null|                null|0.16666666666666666|\n",
      "| stddev|         null|6.127560416916251|2408.644531858096|0.4999208935073339|1.274449013194616|1.7648355920350969|                null|                null| 0.3728852122772358|\n",
      "|    min|   Aaron King|             22.0|            100.0|                 0|              1.0|               3.0|00103 Jeffrey Cre...|     Abbott-Thompson|                  0|\n",
      "|    max|Zachary Walsh|             65.0|         18026.01|                 1|             9.15|              14.0|Unit 9800 Box 287...|Zuniga, Clark and...|                  1|\n",
      "+-------+-------------+-----------------+-----------------+------------------+-----------------+------------------+--------------------+--------------------+-------------------+\n",
      "\n"
     ]
    }
   ],
   "source": [
    "df.describe().show()"
   ]
  },
  {
   "cell_type": "code",
   "execution_count": 9,
   "metadata": {
    "ExecuteTime": {
     "end_time": "2018-08-28T14:35:14.006196Z",
     "start_time": "2018-08-28T14:35:14.000019Z"
    }
   },
   "outputs": [
    {
     "data": {
      "text/plain": [
       "['Names',\n",
       " 'Age',\n",
       " 'Total_Purchase',\n",
       " 'Account_Manager',\n",
       " 'Years',\n",
       " 'Num_Sites',\n",
       " 'Onboard_date',\n",
       " 'Location',\n",
       " 'Company',\n",
       " 'Churn']"
      ]
     },
     "execution_count": 9,
     "metadata": {},
     "output_type": "execute_result"
    }
   ],
   "source": [
    "df.columns"
   ]
  },
  {
   "cell_type": "code",
   "execution_count": 10,
   "metadata": {
    "ExecuteTime": {
     "end_time": "2018-08-28T14:35:30.887475Z",
     "start_time": "2018-08-28T14:35:30.883293Z"
    },
    "collapsed": true
   },
   "outputs": [],
   "source": [
    "from pyspark.ml.feature import VectorAssembler"
   ]
  },
  {
   "cell_type": "code",
   "execution_count": 11,
   "metadata": {
    "ExecuteTime": {
     "end_time": "2018-08-28T14:36:25.259318Z",
     "start_time": "2018-08-28T14:36:25.230079Z"
    },
    "collapsed": true
   },
   "outputs": [],
   "source": [
    "assembler = VectorAssembler(inputCols=['Age',\n",
    " 'Total_Purchase',\n",
    " 'Account_Manager',\n",
    " 'Years',\n",
    " 'Num_Sites'], outputCol='features')"
   ]
  },
  {
   "cell_type": "code",
   "execution_count": 15,
   "metadata": {
    "ExecuteTime": {
     "end_time": "2018-08-28T14:39:14.311969Z",
     "start_time": "2018-08-28T14:39:14.147543Z"
    },
    "collapsed": true
   },
   "outputs": [],
   "source": [
    "output = assembler.transform(df)"
   ]
  },
  {
   "cell_type": "code",
   "execution_count": 16,
   "metadata": {
    "ExecuteTime": {
     "end_time": "2018-08-28T14:40:20.356816Z",
     "start_time": "2018-08-28T14:40:20.333581Z"
    },
    "collapsed": true
   },
   "outputs": [],
   "source": [
    "final_df = output.select(['features', 'Churn'])"
   ]
  },
  {
   "cell_type": "code",
   "execution_count": 12,
   "metadata": {
    "ExecuteTime": {
     "end_time": "2018-08-28T14:36:54.104829Z",
     "start_time": "2018-08-28T14:36:54.100599Z"
    },
    "collapsed": true
   },
   "outputs": [],
   "source": [
    "from pyspark.ml.classification import LogisticRegression"
   ]
  },
  {
   "cell_type": "code",
   "execution_count": 18,
   "metadata": {
    "ExecuteTime": {
     "end_time": "2018-08-28T14:40:35.308545Z",
     "start_time": "2018-08-28T14:40:35.299148Z"
    },
    "collapsed": true
   },
   "outputs": [],
   "source": [
    "model = LogisticRegression(featuresCol='features', labelCol='Churn')"
   ]
  },
  {
   "cell_type": "code",
   "execution_count": 17,
   "metadata": {
    "ExecuteTime": {
     "end_time": "2018-08-28T14:40:30.970758Z",
     "start_time": "2018-08-28T14:40:30.958460Z"
    },
    "collapsed": true
   },
   "outputs": [],
   "source": [
    "train_data, test_data = final_df.randomSplit([0.7, 0.3])"
   ]
  },
  {
   "cell_type": "code",
   "execution_count": 19,
   "metadata": {
    "ExecuteTime": {
     "end_time": "2018-08-28T14:48:42.274830Z",
     "start_time": "2018-08-28T14:48:40.007422Z"
    },
    "collapsed": true
   },
   "outputs": [],
   "source": [
    "fitted = model.fit(train_data)"
   ]
  },
  {
   "cell_type": "code",
   "execution_count": 34,
   "metadata": {
    "ExecuteTime": {
     "end_time": "2018-08-28T16:48:08.116272Z",
     "start_time": "2018-08-28T16:48:08.112036Z"
    }
   },
   "outputs": [],
   "source": [
    "summary = fitted.summary"
   ]
  },
  {
   "cell_type": "code",
   "execution_count": 36,
   "metadata": {
    "ExecuteTime": {
     "end_time": "2018-08-28T16:48:26.789375Z",
     "start_time": "2018-08-28T16:48:26.490137Z"
    }
   },
   "outputs": [
    {
     "data": {
      "text/plain": [
       "0.9103786551214662"
      ]
     },
     "execution_count": 36,
     "metadata": {},
     "output_type": "execute_result"
    }
   ],
   "source": [
    "summary.areaUnderROC"
   ]
  },
  {
   "cell_type": "code",
   "execution_count": 20,
   "metadata": {
    "ExecuteTime": {
     "end_time": "2018-08-28T14:48:51.040963Z",
     "start_time": "2018-08-28T14:48:50.816201Z"
    },
    "collapsed": true
   },
   "outputs": [],
   "source": [
    "result = fitted.evaluate(test_data)"
   ]
  },
  {
   "cell_type": "code",
   "execution_count": 28,
   "metadata": {
    "ExecuteTime": {
     "end_time": "2018-08-28T14:50:38.904892Z",
     "start_time": "2018-08-28T14:50:38.544759Z"
    }
   },
   "outputs": [
    {
     "data": {
      "text/plain": [
       "0.8976400180668477"
      ]
     },
     "execution_count": 28,
     "metadata": {},
     "output_type": "execute_result"
    }
   ],
   "source": [
    "result.areaUnderROC"
   ]
  },
  {
   "cell_type": "code",
   "execution_count": 37,
   "metadata": {
    "ExecuteTime": {
     "end_time": "2018-08-28T16:50:31.756587Z",
     "start_time": "2018-08-28T16:50:31.753009Z"
    }
   },
   "outputs": [],
   "source": [
    "from pyspark.ml.evaluation import BinaryClassificationEvaluator"
   ]
  },
  {
   "cell_type": "code",
   "execution_count": 39,
   "metadata": {
    "ExecuteTime": {
     "end_time": "2018-08-28T16:51:53.239883Z",
     "start_time": "2018-08-28T16:51:53.033389Z"
    }
   },
   "outputs": [
    {
     "name": "stdout",
     "output_type": "stream",
     "text": [
      "+--------------------+-----+--------------------+--------------------+----------+\n",
      "|            features|Churn|       rawPrediction|         probability|prediction|\n",
      "+--------------------+-----+--------------------+--------------------+----------+\n",
      "|[22.0,11254.38,1....|    0|[4.90836725931104...|[0.99266959610265...|       0.0|\n",
      "|[26.0,8787.39,1.0...|    1|[0.93863705788237...|[0.71882426726535...|       0.0|\n",
      "|[26.0,8939.61,0.0...|    0|[6.71305789231348...|[0.99878653102314...|       0.0|\n",
      "|[28.0,8670.98,0.0...|    0|[8.06775111747489...|[0.99968661075814...|       0.0|\n",
      "|[28.0,11245.38,0....|    0|[4.04600787850517...|[0.98280864639875...|       0.0|\n",
      "|[29.0,5900.78,1.0...|    0|[4.51222078039795...|[0.98914506066603...|       0.0|\n",
      "|[29.0,8688.17,1.0...|    1|[2.99201662569369...|[0.95221215874485...|       0.0|\n",
      "|[29.0,9378.24,0.0...|    0|[5.03133263006632...|[0.99351226302923...|       0.0|\n",
      "|[29.0,9617.59,0.0...|    0|[4.72793834038699...|[0.99123285565781...|       0.0|\n",
      "|[29.0,13240.01,1....|    0|[6.80230438030090...|[0.99889002187926...|       0.0|\n",
      "|[30.0,10960.52,1....|    0|[2.58772930158265...|[0.93006767096493...|       0.0|\n",
      "|[30.0,12788.37,0....|    0|[2.55202153451426...|[0.92770920579398...|       0.0|\n",
      "|[31.0,5304.6,0.0,...|    0|[3.82917605668425...|[0.97873453511768...|       0.0|\n",
      "|[31.0,7073.61,0.0...|    0|[3.45564290650358...|[0.96939897931849...|       0.0|\n",
      "|[31.0,11297.57,1....|    1|[1.13265116245088...|[0.75632782982026...|       0.0|\n",
      "|[31.0,12264.68,1....|    0|[3.64917409384623...|[0.97464689636306...|       0.0|\n",
      "|[32.0,5756.12,0.0...|    0|[4.61489759051476...|[0.99019391406962...|       0.0|\n",
      "|[32.0,9472.72,1.0...|    0|[3.85237626846683...|[0.97921208140349...|       0.0|\n",
      "|[32.0,9885.12,1.0...|    1|[2.03730047710125...|[0.88465809954169...|       0.0|\n",
      "|[32.0,12479.72,0....|    0|[4.66155325867640...|[0.99063672952809...|       0.0|\n",
      "+--------------------+-----+--------------------+--------------------+----------+\n",
      "only showing top 20 rows\n",
      "\n"
     ]
    }
   ],
   "source": [
    "result.predictions.show()"
   ]
  },
  {
   "cell_type": "code",
   "execution_count": 40,
   "metadata": {
    "ExecuteTime": {
     "end_time": "2018-08-28T16:52:28.520096Z",
     "start_time": "2018-08-28T16:52:28.505441Z"
    },
    "collapsed": true
   },
   "outputs": [],
   "source": [
    "model_eval = BinaryClassificationEvaluator(rawPredictionCol='prediction', labelCol='Churn')"
   ]
  },
  {
   "cell_type": "code",
   "execution_count": 41,
   "metadata": {
    "ExecuteTime": {
     "end_time": "2018-08-28T16:53:55.885217Z",
     "start_time": "2018-08-28T16:53:55.617445Z"
    }
   },
   "outputs": [
    {
     "data": {
      "text/plain": [
       "0.8275745257452575"
      ]
     },
     "execution_count": 41,
     "metadata": {},
     "output_type": "execute_result"
    }
   ],
   "source": [
    "model_eval.evaluate(result.predictions)"
   ]
  },
  {
   "cell_type": "code",
   "execution_count": null,
   "metadata": {
    "collapsed": true
   },
   "outputs": [],
   "source": []
  }
 ],
 "metadata": {
  "anaconda-cloud": {},
  "hide_input": false,
  "kernelspec": {
   "display_name": "Python 3",
   "language": "python",
   "name": "python3"
  },
  "language_info": {
   "codemirror_mode": {
    "name": "ipython",
    "version": 3
   },
   "file_extension": ".py",
   "mimetype": "text/x-python",
   "name": "python",
   "nbconvert_exporter": "python",
   "pygments_lexer": "ipython3",
   "version": "3.5.4"
  },
  "toc": {
   "base_numbering": 1,
   "nav_menu": {},
   "number_sections": true,
   "sideBar": true,
   "skip_h1_title": false,
   "title_cell": "Table of Contents",
   "title_sidebar": "Contents",
   "toc_cell": false,
   "toc_position": {},
   "toc_section_display": true,
   "toc_window_display": false
  }
 },
 "nbformat": 4,
 "nbformat_minor": 1
}
